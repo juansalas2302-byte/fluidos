{
  "nbformat": 4,
  "nbformat_minor": 0,
  "metadata": {
    "colab": {
      "provenance": [],
      "authorship_tag": "ABX9TyMXHRMhpQA+IpexuWYZ4SX2",
      "include_colab_link": true
    },
    "kernelspec": {
      "name": "python3",
      "display_name": "Python 3"
    },
    "language_info": {
      "name": "python"
    }
  },
  "cells": [
    {
      "cell_type": "markdown",
      "metadata": {
        "id": "view-in-github",
        "colab_type": "text"
      },
      "source": [
        "<a href=\"https://colab.research.google.com/github/juansalas2302-byte/fluidos/blob/main/Copia_de_Primer_Nootebooke.ipynb\" target=\"_parent\"><img src=\"https://colab.research.google.com/assets/colab-badge.svg\" alt=\"Open In Colab\"/></a>"
      ]
    },
    {
      "cell_type": "code",
      "execution_count": null,
      "metadata": {
        "id": "m2BqRip1za9k"
      },
      "outputs": [],
      "source": [
        "import math\n",
        "\n",
        "def ramanujan_pi(n_terms):\n",
        "    \"\"\"Calcula una aproximación de Pi usando la serie de Ramanujan.\"\"\"\n",
        "    sum_ramanujan = 0\n",
        "    for k in range(n_terms):\n",
        "        numerator = math.factorial(4 * k) * (1103 + 26390 * k)\n",
        "        denominator = (math.factorial(k) ** 4) * (396 ** (4 * k))\n",
        "        sum_ramanujan += numerator / denominator\n",
        "    pi_approximation = (2 * math.sqrt(2) / 9801) * (1 / sum_ramanujan)\n",
        "    return pi_approximation\n",
        "\n",
        "# Número de términos para la aproximación (puedes ajustar este valor)\n",
        "num_terms = 10\n",
        "\n",
        "# Calculamos Pi usando la serie de Ramanujan\n",
        "pi_ramanujan = ramanujan_pi(num_terms)\n",
        "\n",
        "print(f\"Aproximación de Pi con {num_terms} términos de la serie de Ramanujan: {pi_ramanujan}\")\n",
        "print(f\"Valor de Pi desde math.pi: {math.pi}\")"
      ]
    },
    {
      "cell_type": "code",
      "metadata": {
        "colab": {
          "base_uri": "https://localhost:8080/"
        },
        "id": "4b67a28e",
        "outputId": "8a5ac449-b098-4afa-a477-b6940a8f3d59"
      },
      "source": [
        "# Para calcular Pi con esta definición, necesitas conocer la circunferencia y el diámetro de un círculo.\n",
        "# Aquí hay un ejemplo con valores hipotéticos:\n",
        "\n",
        "circunferencia = 31.4159  # Ejemplo de la circunferencia de un círculo\n",
        "diametro = 10.0         # Ejemplo del diámetro del mismo círculo\n",
        "\n",
        "# Calculamos Pi\n",
        "pi_calculado = circunferencia / diametro\n",
        "\n",
        "print(f\"La circunferencia es: {circunferencia}\")\n",
        "print(f\"El diámetro es: {diametro}\")\n",
        "print(f\"Pi calculado es: {pi_calculado}\")"
      ],
      "execution_count": null,
      "outputs": [
        {
          "output_type": "stream",
          "name": "stdout",
          "text": [
            "La circunferencia es: 31.4159\n",
            "El diámetro es: 10.0\n",
            "Pi calculado es: 3.14159\n"
          ]
        }
      ]
    }
  ]
}