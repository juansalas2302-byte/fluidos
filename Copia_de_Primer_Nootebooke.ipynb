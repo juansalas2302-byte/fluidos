{
  "nbformat": 4,
  "nbformat_minor": 0,
  "metadata": {
    "colab": {
      "provenance": [],
      "authorship_tag": "ABX9TyO5ziC9m6Xrzg6cW4hMJOOc",
      "include_colab_link": true
    },
    "kernelspec": {
      "name": "python3",
      "display_name": "Python 3"
    },
    "language_info": {
      "name": "python"
    }
  },
  "cells": [
    {
      "cell_type": "markdown",
      "metadata": {
        "id": "view-in-github",
        "colab_type": "text"
      },
      "source": [
        "<a href=\"https://colab.research.google.com/github/juansalas2302-byte/fluidos/blob/main/Copia_de_Primer_Nootebooke.ipynb\" target=\"_parent\"><img src=\"https://colab.research.google.com/assets/colab-badge.svg\" alt=\"Open In Colab\"/></a>"
      ]
    },
    {
      "cell_type": "code",
      "execution_count": null,
      "metadata": {
        "id": "m2BqRip1za9k"
      },
      "outputs": [],
      "source": []
    },
    {
      "cell_type": "code",
      "metadata": {
        "colab": {
          "base_uri": "https://localhost:8080/"
        },
        "id": "4b67a28e",
        "outputId": "8a5ac449-b098-4afa-a477-b6940a8f3d59"
      },
      "source": [
        "# Para calcular Pi con esta definición, necesitas conocer la circunferencia y el diámetro de un círculo.\n",
        "# Aquí hay un ejemplo con valores hipotéticos:\n",
        "\n",
        "circunferencia = 31.4159  # Ejemplo de la circunferencia de un círculo\n",
        "diametro = 10.0         # Ejemplo del diámetro del mismo círculo\n",
        "\n",
        "# Calculamos Pi\n",
        "pi_calculado = circunferencia / diametro\n",
        "\n",
        "print(f\"La circunferencia es: {circunferencia}\")\n",
        "print(f\"El diámetro es: {diametro}\")\n",
        "print(f\"Pi calculado es: {pi_calculado}\")"
      ],
      "execution_count": null,
      "outputs": [
        {
          "output_type": "stream",
          "name": "stdout",
          "text": [
            "La circunferencia es: 31.4159\n",
            "El diámetro es: 10.0\n",
            "Pi calculado es: 3.14159\n"
          ]
        }
      ]
    }
  ]
}